{
 "cells": [
  {
   "cell_type": "markdown",
   "metadata": {},
   "source": [
    "给定一系列会议的开始时间、结束时间[[s1,e1]，[s2,e2]，…(si < ei)及他们的价值。你在同一时刻只能参加一个会议，请问你可以获得的最大价值是多少？\n",
    "\n",
    "说明\n",
    "(0,8),(8,10)在8这这一时刻不冲突\n",
    "\n",
    "示例\n",
    "样例 1\n",
    "\n",
    "\n",
    "输入:\n",
    "meeting = [[10,40],[20,50],[30,45],[40,60]]\n",
    "value = [3,6,2,4]\n",
    "输出: 7\n",
    "说明: 你可以参加第0个会议和第3个会议，总价值为3 + 4 = 7.\n",
    "\n",
    "样例 2\n",
    "\n",
    "\n",
    "输入:\n",
    "meeting = [[10,20],[20,30]]\n",
    "value = [2,4]\n",
    "输出: 6\n",
    "说明: 你可以参加第0个会议和第1个会议，总价值为 2 + 4 = 6.\n"
   ]
  },
  {
   "cell_type": "code",
   "execution_count": 13,
   "metadata": {
    "ExecuteTime": {
     "end_time": "2020-08-21T03:04:46.651732Z",
     "start_time": "2020-08-21T03:04:46.644748Z"
    }
   },
   "outputs": [
    {
     "name": "stdout",
     "output_type": "stream",
     "text": [
      "15\n"
     ]
    }
   ],
   "source": [
    "\n",
    "\n",
    "\n",
    "def meeting_value(li,va):##传入对应的会议时间和值\n",
    "    fst_count=va[0]\n",
    "    j=1\n",
    "    for i in range(len(li)):\n",
    "        while j<len(li):\n",
    "            if li[j-1][1]<=li[j][0]:\n",
    "                fst_count=fst_count+va[j]\n",
    "            j+=1\n",
    "        va.append(fst_count)   \n",
    "    return max(va)\n",
    "\n",
    "li=[[10,20],[20,30],[30,40],[40,50]]\n",
    "va=[3,6,2,4] \n",
    "print(meeting_value(li,va))\n",
    "\n",
    "    "
   ]
  },
  {
   "cell_type": "code",
   "execution_count": 2,
   "metadata": {
    "ExecuteTime": {
     "end_time": "2020-08-19T09:54:46.730214Z",
     "start_time": "2020-08-19T09:54:46.718692Z"
    }
   },
   "outputs": [
    {
     "data": {
      "text/plain": [
       "40"
      ]
     },
     "execution_count": 2,
     "metadata": {},
     "output_type": "execute_result"
    }
   ],
   "source": [
    "\n"
   ]
  },
  {
   "cell_type": "code",
   "execution_count": null,
   "metadata": {},
   "outputs": [],
   "source": []
  }
 ],
 "metadata": {
  "kernelspec": {
   "display_name": "Python 3",
   "language": "python",
   "name": "python3"
  },
  "language_info": {
   "codemirror_mode": {
    "name": "ipython",
    "version": 3
   },
   "file_extension": ".py",
   "mimetype": "text/x-python",
   "name": "python",
   "nbconvert_exporter": "python",
   "pygments_lexer": "ipython3",
   "version": "3.7.6"
  },
  "toc": {
   "base_numbering": 1,
   "nav_menu": {},
   "number_sections": true,
   "sideBar": true,
   "skip_h1_title": false,
   "title_cell": "Table of Contents",
   "title_sidebar": "Contents",
   "toc_cell": false,
   "toc_position": {},
   "toc_section_display": true,
   "toc_window_display": false
  }
 },
 "nbformat": 4,
 "nbformat_minor": 4
}
